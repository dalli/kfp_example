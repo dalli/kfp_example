{
 "cells": [
  {
   "cell_type": "markdown",
   "id": "ef261997",
   "metadata": {},
   "source": [
    "# PIPELINE 그래프 예제\n",
    "\n",
    "일반적인 케이스로 구성되어 있는 파이프라인을 작성합니다.<br>\n",
    "각 컴포넌트는 파이프라인의 워크플로우 파악을 위하여 입력 값에 컴포넌트 작업을 추가하여 출력 값을 반환합니다.<br>\n",
    "<span style = 'font-weight:bold'>본 예제는 아래 그래프로 구성된 파이프라인 구현을 목표로 합니다.</span>"
   ]
  },
  {
   "cell_type": "markdown",
   "id": "a1306e2b",
   "metadata": {},
   "source": [
    "<img src='node_image/pipeline_example.png' width='300px'></img>"
   ]
  },
  {
   "cell_type": "markdown",
   "id": "0a867c26",
   "metadata": {},
   "source": [
    "예제 구현 전 기본적인 컴포넌트 연결 구성을 먼저 확인하여 파이프라인을 작성한 후 확장하여 구현합니다."
   ]
  },
  {
   "cell_type": "code",
   "execution_count": 19,
   "id": "0703c497",
   "metadata": {},
   "outputs": [],
   "source": [
    "import kfp\n",
    "from kfp import components, dsl\n",
    "from kfp.components import func_to_container_op"
   ]
  },
  {
   "cell_type": "markdown",
   "id": "ba898a1c",
   "metadata": {},
   "source": [
    "## 컴포넌트 2개\n",
    "\n",
    "먼저 두 개의 컴포넌트로 구성한 파이프라인을 작성합니다. 파이프라인 작성에 필요한 노드 A, B 컴포넌트를 선언합니다.<br>\n",
    "노드A는 그래프의 시작이므로 출력 값만 정의합니다.<br>\n",
    "노드B는 입력과 출력을 모두 정의합니다."
   ]
  },
  {
   "cell_type": "code",
   "execution_count": 20,
   "id": "ee0375ea",
   "metadata": {},
   "outputs": [],
   "source": [
    "@func_to_container_op\n",
    "def node_A() -> str:\n",
    "    task_A = 'A'\n",
    "    print(task_A)\n",
    "    return task_A\n",
    "\n",
    "@func_to_container_op\n",
    "def node_B(B: str) -> str:\n",
    "    task_B = f'{B} -> B'\n",
    "    print(task_B)\n",
    "    return task_B"
   ]
  },
  {
   "cell_type": "markdown",
   "id": "41a82409",
   "metadata": {},
   "source": [
    "## 파이프라인 작성 (컴포넌트 2개)\n",
    "\n",
    "두 노드를 연결하는 파이프라인을 작성합니다. 먼저 노드A 작업을 수행하는 인스턴스를 정의합니다.<br>\n",
    "다음으로 노드A의 출력값을 입력으로 받는 노드B를 정의합니다.<br>\n",
    "두 노드는 정의되어 있는 입력과 출력을 작성자가 연결해줌으로써 그래프를 완성합니다."
   ]
  },
  {
   "cell_type": "code",
   "execution_count": 21,
   "id": "721c2a09",
   "metadata": {},
   "outputs": [],
   "source": [
    "@dsl.pipeline(name='pipeline example')\n",
    "def connect_example_pipeline():\n",
    "    node_A_task = node_A()\n",
    "    node_B_task = node_B(node_A_task.output)"
   ]
  },
  {
   "cell_type": "code",
   "execution_count": 22,
   "id": "6309fc20",
   "metadata": {},
   "outputs": [],
   "source": [
    "kfp.compiler.Compiler().compile(connect_example_pipeline, 'node2_example.yaml')"
   ]
  },
  {
   "cell_type": "markdown",
   "id": "fb2d83a3",
   "metadata": {},
   "source": [
    "### 파이프라인 결과\n",
    "\n",
    "작성한 파이프라인을 kubeflow에 업로드하여 결과 화면을 확인합니다.\n",
    "노드A의 출력을 확인할 수 있습니다."
   ]
  },
  {
   "cell_type": "markdown",
   "id": "27d7fd9f",
   "metadata": {},
   "source": [
    "![node_image/nodeA.png](node_image/nodeA.png)"
   ]
  },
  {
   "cell_type": "markdown",
   "id": "044360d3",
   "metadata": {},
   "source": [
    "노드B는 노드A의 출력을 입력으로 받은 후 출력을 통해 파이프라인의 워크플로우를 확인할 수 있습니다."
   ]
  },
  {
   "cell_type": "markdown",
   "id": "c66b5647",
   "metadata": {},
   "source": [
    "![node_image/nodeB.png](node_image/nodeB.png)"
   ]
  },
  {
   "cell_type": "markdown",
   "id": "cc8b675f",
   "metadata": {},
   "source": [
    "## 컴포넌트 3개\n",
    "\n",
    "두개의 컴포넌트를 파이프라인으로 구성함으로써 파이프라인의 단일 연결 방법은 확인하였습니다.<br>\n",
    "컴포넌트는 출력값을 확실히 정의해주어야 하기 때문에 위 예제에서는 string으로 노드의 출력 값을 확인합니다.<br>\n",
    "하지만 2개 이상의 출력 값은 list, tuple 형태의 데이터를 활용해야 합니다.<br>\n",
    "<br>\n",
    "노드A는 tuple 형태의 출력값을 가집니다. 이를 사용하기 위하여 NamedTuple 패키지를 활용합니다."
   ]
  },
  {
   "cell_type": "code",
   "execution_count": 23,
   "id": "e7d9eb5d",
   "metadata": {},
   "outputs": [],
   "source": [
    "from typing import NamedTuple"
   ]
  },
  {
   "cell_type": "markdown",
   "id": "7745651e",
   "metadata": {},
   "source": [
    "kubeflow pipeline에서는 입력값과 출력값을 확실히 정의해야되기 때문에 NamedTuple을 사용하여 다음과 같이 노드A를 새롭게 정의합니다."
   ]
  },
  {
   "cell_type": "code",
   "execution_count": 24,
   "id": "cd421dbc",
   "metadata": {},
   "outputs": [],
   "source": [
    "@func_to_container_op\n",
    "def node_A() -> NamedTuple('Outputs', [('first', str), ('second', str)]):\n",
    "    task_A = 'A'\n",
    "    print(task_A)\n",
    "    return (task_A, task_A)"
   ]
  },
  {
   "cell_type": "markdown",
   "id": "3e2e9c7e",
   "metadata": {},
   "source": [
    "노드B는 기존과 같은 작업을 진행하기 때문에 재사용합니다. 그리고 노드B와 같은 작업을 수행하는 노드C를 새롭게 정의합니다."
   ]
  },
  {
   "cell_type": "code",
   "execution_count": 25,
   "id": "45e415e7",
   "metadata": {},
   "outputs": [],
   "source": [
    "@func_to_container_op\n",
    "def node_C(C: str) -> str:\n",
    "    task_C = f'{C} -> C'\n",
    "    print(task_C)\n",
    "    return task_C"
   ]
  },
  {
   "cell_type": "markdown",
   "id": "6ac7caea",
   "metadata": {},
   "source": [
    "## 파이프라인 작성 (컴포넌트 3개)\n",
    "\n",
    "이제 3개의 컴포넌트를 연결하는 파이프라인을 새롭게 작성합니다. 단일 출력일 시 output를 사용하지만 출력이 2개 이상일 때는 outputs를 사용한 후 원하는 출력의 key값을 작성합니다."
   ]
  },
  {
   "cell_type": "code",
   "execution_count": 26,
   "id": "4e72afa0",
   "metadata": {},
   "outputs": [],
   "source": [
    "@dsl.pipeline(name='pipeline example')\n",
    "def connect_example_pipeline():\n",
    "    node_A_task = node_A()\n",
    "    node_B_task = node_B(node_A_task.outputs['first'])\n",
    "    node_C_task = node_C(node_A_task.outputs['second'])"
   ]
  },
  {
   "cell_type": "code",
   "execution_count": 27,
   "id": "7abfc36b",
   "metadata": {},
   "outputs": [],
   "source": [
    "kfp.compiler.Compiler().compile(connect_example_pipeline, 'node3_example.yaml')"
   ]
  },
  {
   "cell_type": "markdown",
   "id": "38073f65",
   "metadata": {},
   "source": [
    "### 파이프라인 결과\n",
    "\n",
    "A -> B, A -> C의 워크플로우를 확인할 수 있습니다."
   ]
  },
  {
   "cell_type": "markdown",
   "id": "684a856d",
   "metadata": {},
   "source": [
    "![node_image/nodeC.png](node_image/nodeC.png)"
   ]
  },
  {
   "cell_type": "markdown",
   "id": "3bc5fc83",
   "metadata": {},
   "source": [
    "# 예제 그래프 작성\n",
    "\n",
    "컴포넌트 작성 예제를 통해 다음 그래프로 구성되어 있는 파이프라인을 작성합니다.<br>\n",
    "현재 구성되어 있는 노드A,B,C에서 노드D,E,F를 추가합니다.<br>\n",
    "노드D,E는 노드B의 출력을 입력으로 연결이 구성되어 있습니다.<br> \n",
    "먼저 노드B를 노드A의 출력과 같이 수정합니다. 단, 노드B는 입력값이 존재하는 것을 유의합니다."
   ]
  },
  {
   "cell_type": "code",
   "execution_count": 28,
   "id": "21906052",
   "metadata": {},
   "outputs": [],
   "source": [
    "@func_to_container_op\n",
    "def node_B(B: str) -> NamedTuple('Outputs', [('first', str), ('second', str)]):\n",
    "    task_B = f'{B} -> B'\n",
    "    print(task_B)\n",
    "    return (task_B, task_B)"
   ]
  },
  {
   "cell_type": "markdown",
   "id": "2b737704",
   "metadata": {},
   "source": [
    "노드 B의 출력을 입력으로 받는 노드D,E도 정의합니다."
   ]
  },
  {
   "cell_type": "code",
   "execution_count": 29,
   "id": "31415282",
   "metadata": {},
   "outputs": [],
   "source": [
    "@func_to_container_op\n",
    "def node_D(D: str) -> str:\n",
    "    task_D = f'{D} -> D'\n",
    "    print(task_D)\n",
    "    return task_D\n",
    "\n",
    "@func_to_container_op\n",
    "def node_E(E: str) -> str:\n",
    "    task_E = f'{E} -> E'\n",
    "    print(task_E)\n",
    "    return task_E"
   ]
  },
  {
   "cell_type": "markdown",
   "id": "f6724c22",
   "metadata": {},
   "source": [
    "마지막으로 노드C의 출력을 입력으로 받는 노드F도 정의합니다."
   ]
  },
  {
   "cell_type": "code",
   "execution_count": 30,
   "id": "3a1ff006",
   "metadata": {},
   "outputs": [],
   "source": [
    "@func_to_container_op\n",
    "def node_F(F: str) -> str:\n",
    "    task_F = f'{F} -> F'\n",
    "    print(task_F)\n",
    "    return task_F"
   ]
  },
  {
   "cell_type": "markdown",
   "id": "55abe511",
   "metadata": {},
   "source": [
    "## 파이프라인 작성 (예제 그래프)\n",
    "\n",
    "예제 그래프를 구성하는 모든 노드(컴포넌트)들을 정의하였습니다.<br>\n",
    "이제 각각의 입력과 출력을 연결하여 파이프라인을 완성해야 합니다. "
   ]
  },
  {
   "cell_type": "code",
   "execution_count": 31,
   "id": "b5ec69bc",
   "metadata": {},
   "outputs": [],
   "source": [
    "@dsl.pipeline(name='pipeline example')\n",
    "def connect_example_pipeline():\n",
    "    #시작 노드\n",
    "    node_A_task = node_A()\n",
    "    \n",
    "    #왼쪽 구성 트리\n",
    "    node_B_task = node_B(node_A_task.outputs['first'])\n",
    "\n",
    "    node_D_task = node_D(node_B_task.outputs['first'])\n",
    "    node_E_task = node_E(node_B_task.outputs['second'])\n",
    "\n",
    "    #오른쪽 구성 트리\n",
    "    node_C_task = node_C(node_A_task.outputs['second'])\n",
    "\n",
    "    node_F_task = node_F(node_C_task.output)"
   ]
  },
  {
   "cell_type": "code",
   "execution_count": 32,
   "id": "33e8c2ad",
   "metadata": {},
   "outputs": [],
   "source": [
    "kfp.compiler.Compiler().compile(connect_example_pipeline, 'DAG_node_example.yaml')"
   ]
  },
  {
   "cell_type": "markdown",
   "id": "200767f8",
   "metadata": {},
   "source": [
    "## 파이프라인 결과 (예제 그래프)\n",
    "\n",
    "작성한 파이프라인을 kubeflow pipeline에 업로드 시 다음과 같이 예제와 같은 모양의 그래프를 확인할 수 있습니다."
   ]
  },
  {
   "cell_type": "markdown",
   "id": "752b2ebb",
   "metadata": {},
   "source": [
    "<img src = 'node_image/kubeflow_pipeline_result.png'></img>"
   ]
  },
  {
   "cell_type": "markdown",
   "id": "b8a793cf",
   "metadata": {},
   "source": [
    "구성한 파이프라인의 워크플로우 확인을 위하여 NodeE와 NodeF를 확인합니다."
   ]
  },
  {
   "cell_type": "markdown",
   "id": "2ad6d82c",
   "metadata": {},
   "source": [
    "<img src = 'node_image/nodeE.png'></img>"
   ]
  },
  {
   "cell_type": "markdown",
   "id": "5f6366a3",
   "metadata": {},
   "source": [
    "<img src = 'node_image/nodeF.png'></img>"
   ]
  },
  {
   "cell_type": "markdown",
   "id": "86b06cda",
   "metadata": {},
   "source": [
    "트리의 마지막 노드를 통하여 워크플로우를 확인할 수 있습니다."
   ]
  }
 ],
 "metadata": {
  "kernelspec": {
   "display_name": "Python 3 (ipykernel)",
   "language": "python",
   "name": "python3"
  },
  "language_info": {
   "codemirror_mode": {
    "name": "ipython",
    "version": 3
   },
   "file_extension": ".py",
   "mimetype": "text/x-python",
   "name": "python",
   "nbconvert_exporter": "python",
   "pygments_lexer": "ipython3",
   "version": "3.9.13"
  }
 },
 "nbformat": 4,
 "nbformat_minor": 5
}
