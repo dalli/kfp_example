{
 "cells": [
  {
   "cell_type": "markdown",
   "id": "9eef2493",
   "metadata": {},
   "source": [
    "# 2개의 노드\n",
    "\n",
    "파이프라인을 구성하는 각 컴포넌트는 레고 블럭처럼 입력과 출력이 정확하게 정의되어야 합니다.<br>\n",
    "만약 정의한 컴포넌트의 입력값에 다른 형태의 데이터가 들어간다면 에러가 발생하기 때문입니다.<br>\n",
    "서로 다른 형태의 데이터를 입력과 출력으로 사용하는 컴포넌트 예제를 확인합니다."
   ]
  },
  {
   "cell_type": "code",
   "execution_count": 1,
   "id": "15b69931",
   "metadata": {},
   "outputs": [],
   "source": [
    "import kfp\n",
    "from kfp import components, dsl\n",
    "from kfp.components import func_to_container_op"
   ]
  },
  {
   "cell_type": "markdown",
   "id": "9638a438",
   "metadata": {},
   "source": [
    "string을 출력하는 간단한 컴포넌트를 정의합니다."
   ]
  },
  {
   "cell_type": "code",
   "execution_count": null,
   "id": "5626b4c0",
   "metadata": {},
   "outputs": [],
   "source": [
    "@func_to_container_op\n",
    "def node_A() -> str:\n",
    "    task_A = 'A'\n",
    "    print(task_A)\n",
    "    return task_A"
   ]
  },
  {
   "cell_type": "markdown",
   "id": "72f50941",
   "metadata": {},
   "source": [
    "그 다음 컴포넌트가 A의 출력을 입력으로 받기 위해서는 무조건 string을 입력으로 받는 컴포넌트로 작성해야 합니다. <br>\n",
    "string을 입력받는다면 출력은 다른 형태 모두 가능합니다."
   ]
  },
  {
   "cell_type": "code",
   "execution_count": 2,
   "id": "985ace8d",
   "metadata": {},
   "outputs": [],
   "source": [
    "@func_to_container_op\n",
    "def node_B(B: str) -> str:\n",
    "    task_B = f'{B} -> B'\n",
    "    print(task_B)\n",
    "    return task_B"
   ]
  },
  {
   "cell_type": "markdown",
   "id": "6ce3a1a0",
   "metadata": {},
   "source": [
    "두 노드를 파이프라인에서 입력과 출력값을 작성하여 연결합니다. 만약 "
   ]
  },
  {
   "cell_type": "code",
   "execution_count": null,
   "id": "ed73ac41",
   "metadata": {},
   "outputs": [],
   "source": [
    "@dsl.pipeline(name='pipeline example')\n",
    "def connect_example_pipeline():\n",
    "    node_A_task = node_A()\n",
    "    node_B_task = node_B(node_A_task.output)"
   ]
  }
 ],
 "metadata": {
  "kernelspec": {
   "display_name": "Python 3 (ipykernel)",
   "language": "python",
   "name": "python3"
  },
  "language_info": {
   "codemirror_mode": {
    "name": "ipython",
    "version": 3
   },
   "file_extension": ".py",
   "mimetype": "text/x-python",
   "name": "python",
   "nbconvert_exporter": "python",
   "pygments_lexer": "ipython3",
   "version": "3.9.13"
  }
 },
 "nbformat": 4,
 "nbformat_minor": 5
}
