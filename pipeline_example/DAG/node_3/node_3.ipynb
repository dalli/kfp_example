{
 "cells": [
  {
   "cell_type": "markdown",
   "id": "c4434df4",
   "metadata": {},
   "source": [
    "# 3개의 노드\n",
    "\n",
    "3개의 노드로 구성되어 있는 파이프라인을 작성합니다.<br>\n",
    "예제는 세가지 케이스를 작성하여 확인하며 아래 그림과 같이 구성되어 있습니다."
   ]
  },
  {
   "cell_type": "markdown",
   "id": "90abd0a9",
   "metadata": {},
   "source": [
    "<img src='node_example_image/node3.png'></img>"
   ]
  },
  {
   "cell_type": "code",
   "execution_count": 2,
   "id": "fa54b2f7",
   "metadata": {},
   "outputs": [],
   "source": [
    "import kfp\n",
    "from kfp import components, dsl\n",
    "from kfp.components import func_to_container_op"
   ]
  },
  {
   "cell_type": "markdown",
   "id": "89af2d3f",
   "metadata": {},
   "source": [
    "## A -> B -> C\n",
    "\n",
    "먼저 3개의 노드(컴포넌트)를 연결하기 위한 입력과 출력을 확인합니다.<br>\n",
    "> nodeA : 입력은 선택적이지만 B의 입력을 받기위한 출력은 필수적입니다.<br>\n",
    "> nodeB : A의 출력을 입력으로 받기 위해 A의 출력 형태를 정확히 알아야 하며 C의 입력을 받기위한 출력 또한 필수적입니다.<br>\n",
    "> nodeC : B의 출력을 입력으로 받기 위해 B의 출력 형태를 정확히 알아야 합니다."
   ]
  },
  {
   "cell_type": "code",
   "execution_count": 3,
   "id": "f2194aa5",
   "metadata": {},
   "outputs": [],
   "source": [
    "@func_to_container_op\n",
    "def node_A() -> str:\n",
    "    task_A = 'A'\n",
    "    print(task_A)\n",
    "    return task_A\n",
    "\n",
    "@func_to_container_op\n",
    "def node_B(B: str) -> str:\n",
    "    task_B = f'{B} -> B'\n",
    "    print(task_B)\n",
    "    return task_B\n",
    "\n",
    "@func_to_container_op\n",
    "def node_C(C: str) -> str:\n",
    "    task_C = f'{C} -> C'\n",
    "    print(task_C)\n",
    "    return task_C"
   ]
  },
  {
   "cell_type": "markdown",
   "id": "b1e84965",
   "metadata": {},
   "source": [
    "컴포넌트를 모두 정의하였으면 입력과 출력을 연결하여 파이프라인을 작성합니다."
   ]
  },
  {
   "cell_type": "code",
   "execution_count": 4,
   "id": "5d81904b",
   "metadata": {},
   "outputs": [],
   "source": [
    "@dsl.pipeline(name='node3 example')\n",
    "def connect_example_pipeline():\n",
    "    node_A_task = node_A()\n",
    "    node_B_task = node_B(node_A_task.output)\n",
    "    node_C_task = node_C(node_B_task.output)"
   ]
  },
  {
   "cell_type": "markdown",
   "id": "1e084c72",
   "metadata": {},
   "source": [
    "### kubeflow pipeline 결과 화면"
   ]
  },
  {
   "attachments": {},
   "cell_type": "markdown",
   "id": "0fb12341",
   "metadata": {},
   "source": [
    "<img src='node_example_image/node3_1.png' width='850px'></img>"
   ]
  },
  {
   "cell_type": "markdown",
   "id": "373fbfe0",
   "metadata": {},
   "source": [
    "## (A , B) -> C\n",
    "\n",
    "두 개의 노드 출력을 모두 입력으로 받는 노드를 작성합니다. <br>\n",
    "> nodeA, nodeB : 입력은 선택적이지만 C의 입력을 받기위한 출력은 필수적입니다.<br>\n",
    "> nodeC : 두 노드의 출력 형태를 정확히 알아야 하며 출력 값을 동시에 받기위한 형태를 구성해야 합니다."
   ]
  },
  {
   "cell_type": "code",
   "execution_count": 5,
   "id": "9f6d88e2",
   "metadata": {},
   "outputs": [],
   "source": [
    "@func_to_container_op\n",
    "def node_A() -> str:\n",
    "    task_A = 'A'\n",
    "    print(task_A)\n",
    "    return task_A\n",
    "\n",
    "@func_to_container_op\n",
    "def node_B() -> str:\n",
    "    task_B = 'B'\n",
    "    print(task_B)\n",
    "    return task_B"
   ]
  },
  {
   "cell_type": "markdown",
   "id": "6c445353",
   "metadata": {},
   "source": [
    "노드A,B는 간단하게 구성되지만 노드C는 두 개의 인수를 입력받아야 합니다."
   ]
  },
  {
   "cell_type": "code",
   "execution_count": 6,
   "id": "ff858996",
   "metadata": {},
   "outputs": [],
   "source": [
    "@func_to_container_op\n",
    "def node_C(C1: str, C2: str) -> str:\n",
    "    task_C = f'{(C1, C2)} -> C'\n",
    "    print(task_C)\n",
    "    return task_C"
   ]
  },
  {
   "cell_type": "markdown",
   "id": "c898493d",
   "metadata": {},
   "source": [
    "노드A,B의 출력을 입력으로 연결하여 파이프라인을 구성합니다."
   ]
  },
  {
   "cell_type": "code",
   "execution_count": 7,
   "id": "e500b84b",
   "metadata": {},
   "outputs": [],
   "source": [
    "@dsl.pipeline(name='node3 example')\n",
    "def connect_example_pipeline():\n",
    "    node_A_task = node_A()\n",
    "    node_B_task = node_B()\n",
    "    node_C_task = node_C(node_A_task.output, node_B_task.output)"
   ]
  },
  {
   "cell_type": "markdown",
   "id": "5023f597",
   "metadata": {},
   "source": [
    "### kubeflow pipeline 결과 화면"
   ]
  },
  {
   "cell_type": "markdown",
   "id": "93793211",
   "metadata": {},
   "source": [
    "<img src='node_example_image/node3_2.png' width='850px'></img>"
   ]
  },
  {
   "cell_type": "markdown",
   "id": "984db453",
   "metadata": {},
   "source": [
    "## A -> B, A -> C\n",
    "\n",
    "두 개의 노드에 각각 입력 받도록 하는 노드A의 출력을 확인하여 작성합니다. <br>\n",
    "> nodeA : 두 노드 각각의 입력을 받기 위한 출력을 구성해야 합니다.<br>\n",
    "> nodeB, nodeC : A의 출력을 입력으로 받기위해 A의 출력 형태를 정확히 알아야 합니다."
   ]
  },
  {
   "cell_type": "code",
   "execution_count": 8,
   "id": "dd8dac44",
   "metadata": {},
   "outputs": [],
   "source": [
    "from typing import NamedTuple\n",
    "@func_to_container_op\n",
    "def node_A() -> NamedTuple('Outputs', [('first', str), ('second', str)]):\n",
    "    task_A = 'A'\n",
    "    print(task_A)\n",
    "    return (task_A, task_A)"
   ]
  },
  {
   "cell_type": "markdown",
   "id": "b5717404",
   "metadata": {},
   "source": [
    "두 개의 출력을 갖기 위한 NamedTuple 패키지를 활용합니다. 파이프라인을 구성하는 컴포넌트의 입력과 출력을 명확히 정의하기 위해 사용합니다."
   ]
  },
  {
   "cell_type": "code",
   "execution_count": 9,
   "id": "d2fe6332",
   "metadata": {},
   "outputs": [],
   "source": [
    "@func_to_container_op\n",
    "def node_B(B: str) -> str:\n",
    "    task_B = f'{B} -> B'\n",
    "    print(task_B)\n",
    "    return task_B\n",
    "\n",
    "@func_to_container_op\n",
    "def node_C(C: str):\n",
    "    task_C = f'{C} -> C'\n",
    "    print(task_C)\n",
    "    return task_C"
   ]
  },
  {
   "cell_type": "markdown",
   "id": "2a894374",
   "metadata": {},
   "source": [
    "노드A의 출력을 각각 입력받을 수 있는 노드 B,C를 정의한 후 파이프라인을 구성합니다. 파이프라인 구성 시 노드A의 출력은 2개 이상으로 구성되어 있기 때문에 key, value 형태로 다른 노드 입력에 작성하여 연결합니다."
   ]
  },
  {
   "cell_type": "code",
   "execution_count": 10,
   "id": "5fed88ff",
   "metadata": {},
   "outputs": [],
   "source": [
    "@dsl.pipeline(name='node3 example')\n",
    "def connect_example_pipeline():\n",
    "    node_A_task = node_A()\n",
    "    node_B_task = node_B(node_A_task.outputs['first'])\n",
    "    node_C_task = node_C(node_A_task.outputs['second'])"
   ]
  },
  {
   "cell_type": "markdown",
   "id": "a18d9cf0",
   "metadata": {},
   "source": [
    "### kubeflow pipeline 결과 화면"
   ]
  },
  {
   "attachments": {},
   "cell_type": "markdown",
   "id": "58de37a1",
   "metadata": {},
   "source": [
    "<img src='node_example_image/node3_3.png' width='850px'></img>"
   ]
  }
 ],
 "metadata": {
  "kernelspec": {
   "display_name": "Python 3 (ipykernel)",
   "language": "python",
   "name": "python3"
  },
  "language_info": {
   "codemirror_mode": {
    "name": "ipython",
    "version": 3
   },
   "file_extension": ".py",
   "mimetype": "text/x-python",
   "name": "python",
   "nbconvert_exporter": "python",
   "pygments_lexer": "ipython3",
   "version": "3.9.13"
  }
 },
 "nbformat": 4,
 "nbformat_minor": 5
}
