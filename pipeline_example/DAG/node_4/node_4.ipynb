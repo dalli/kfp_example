{
 "cells": [
  {
   "cell_type": "markdown",
   "id": "56597c04",
   "metadata": {},
   "source": [
    "# 4개의 노드\n",
    "\n",
    "4개의 노드로 구성되어 있는 파이프라인을 작성합니다.<br>\n",
    "총 4개의 케이스를 작성하여 아래 그림과 같은 그래프 구성을 이루는 파이프라인을 구현합니다."
   ]
  },
  {
   "cell_type": "markdown",
   "id": "a226c225",
   "metadata": {},
   "source": [
    "<img src='node_example_image/node4.png'></img>"
   ]
  },
  {
   "cell_type": "code",
   "execution_count": 1,
   "id": "9b706c86",
   "metadata": {},
   "outputs": [],
   "source": [
    "import kfp\n",
    "from kfp import components, dsl\n",
    "from kfp.components import func_to_container_op"
   ]
  },
  {
   "cell_type": "markdown",
   "id": "9e776152",
   "metadata": {},
   "source": [
    "## A -> (B, C) -> D\n",
    "\n",
    "3개 노드로 구성한 파이프라인 예제를 참고하여 4개의 노드를 구성합니다. <br>\n",
    "출력과 입력이 두개로 구성되어 있는 노드A,D를 유의하여 작성합니다.<br>\n",
    "> nodeA : B, C에 입력할 출력을 필수적으로 정의해야 합니다. <br>\n",
    "> nodeD : B, C에서 출력한 값을 입력하기 위한 데이터 형태를 확실히 알아야 합니다."
   ]
  },
  {
   "cell_type": "code",
   "execution_count": 2,
   "id": "c4261f1c",
   "metadata": {},
   "outputs": [],
   "source": [
    "from typing import NamedTuple\n",
    "@func_to_container_op\n",
    "def node_A() -> NamedTuple('Outputs', [('first', str), ('second', str)]):\n",
    "    task_A = 'A'\n",
    "    print(task_A)\n",
    "    return (task_A, task_A)\n",
    "\n",
    "@func_to_container_op\n",
    "def node_B(B: str) -> str:\n",
    "    task_B = f'{B} -> B'\n",
    "    print(task_B)\n",
    "    return task_B\n",
    "\n",
    "@func_to_container_op\n",
    "def node_C(C: str):\n",
    "    task_C = f'{C} -> C'\n",
    "    print(task_C)\n",
    "    return task_C"
   ]
  },
  {
   "cell_type": "markdown",
   "id": "f1e20215",
   "metadata": {},
   "source": [
    "3개의 노드로 구성되어진 예제 코드를 그대로 작성한 후 마지막에 두개의 노드의 출력을 입력으로 받는 노드D를 정의합니다.<br>\n",
    "노드D는 3개 노드 예제를 참고합니다."
   ]
  },
  {
   "cell_type": "code",
   "execution_count": 3,
   "id": "ba70b26b",
   "metadata": {},
   "outputs": [],
   "source": [
    "@func_to_container_op\n",
    "def node_D(D1: str, D2:str):\n",
    "    task_D = f'{(D1, D2)} -> D'\n",
    "    print(task_D)\n",
    "    return task_D"
   ]
  },
  {
   "cell_type": "markdown",
   "id": "ba71a1ea",
   "metadata": {},
   "source": [
    "4개의 노드 출력, 입력을 연결하여 파이프라인을 완성합니다. 이때 노드 3개 파이프라인의 확장인 것을 확인할 수 있습니다."
   ]
  },
  {
   "cell_type": "code",
   "execution_count": 4,
   "id": "9017dcd2",
   "metadata": {},
   "outputs": [],
   "source": [
    "def connect_example_pipeline():\n",
    "    node_A_task = node_A()\n",
    "    node_B_task = node_B(node_A_task.outputs['first'])\n",
    "    node_C_task = node_C(node_A_task.outputs['second'])\n",
    "    node_D_task = node_D(node_B_task.output, node_C_task.output)"
   ]
  },
  {
   "cell_type": "markdown",
   "id": "7ea8dc5e",
   "metadata": {},
   "source": [
    "### kubeflow pipeline 결과 화면"
   ]
  },
  {
   "cell_type": "markdown",
   "id": "c3f14126",
   "metadata": {},
   "source": [
    "<img src='node_example_image/node4_1.png' width='850px'></img>"
   ]
  },
  {
   "cell_type": "markdown",
   "id": "a08cae58",
   "metadata": {},
   "source": [
    "## A -> B, A -> C, A -> D\n",
    "\n",
    "노드(컴포넌트) 구성 시 3개의 출력을 갖는 노드A를 유의해야 할 것 같지만 2개 이상의 출력은 보통 다른 데이터 type을 사용합니다. <br>\n",
    "기존 3개의 노드로 구성되어 있는 파이프라인은 NamedTuple 패키지 사용 예제를 보여주기 위한 파이프라인을 구성하였습니다. 하지만 같은 값의 출력을 tuple 형태로 구성하였기 때문에 결국은 하나의 출력과 동일하다고 볼 수 있습니다.<br>\n",
    "지금까지의 예제로 입력과 출력 방식을 확인하였기 때문에 현재 케이스에서는 기본적으로 구성한 컴포넌트를 파이프라인에서 3개의 노드로 연결하도록 코드를 작성합니다.\n",
    "> NamedTuple은 서로 다른 형태의 2개의 값을 출력으로 가질 때 주로 사용합니다.<br>\n",
    "> 간단한 인수가 아닌 더 큰 형태의 데이터는 list,InputPath, OutputPath를 사용합니다. <br>\n",
    "> 본 예제에서는 파이프라인의 워크플로우 확인을 목적으로 하기때문에 NamedTuple까지만 사용합니다."
   ]
  },
  {
   "cell_type": "code",
   "execution_count": null,
   "id": "9ca8d29d",
   "metadata": {},
   "outputs": [],
   "source": [
    "@func_to_container_op\n",
    "def node_A() -> str:\n",
    "    task_A = 'A'\n",
    "    print(task_A)\n",
    "    return task_A\n",
    "\n",
    "@func_to_container_op\n",
    "def node_B(B: str) -> str:\n",
    "    task_B = f'{B} -> B'\n",
    "    print(task_B)\n",
    "    return task_B\n",
    "\n",
    "@func_to_container_op\n",
    "def node_C(C: str) -> str:\n",
    "    task_C = f'{C} -> C'\n",
    "    print(task_C)\n",
    "    return task_C\n",
    "\n",
    "@func_to_container_op\n",
    "def node_D(D: str) -> str:\n",
    "    task_D = f'{D} -> D'\n",
    "    print(task_D)\n",
    "    return task_D"
   ]
  },
  {
   "cell_type": "markdown",
   "id": "f3b0b7a8",
   "metadata": {},
   "source": [
    "4개의 노드를 간단하게 정의합니다. 각 노드는 입력과 출력만 정확히 알고 있다면 파이프라인을 작성하는 단계에서 워크플로우를 파이프라인 작성자가 정의한다고 볼 수 있습니다. 노드A의 출력을 나머지 세노드가 입력으로 받도록 파이프라인을 작성합니다."
   ]
  },
  {
   "cell_type": "code",
   "execution_count": 5,
   "id": "a48e783a",
   "metadata": {},
   "outputs": [],
   "source": [
    "def connect_example_pipeline():\n",
    "    node_A_task = node_A()\n",
    "    node_B_task = node_B(node_A_task.output)\n",
    "    node_C_task = node_C(node_A_task.output)\n",
    "    node_D_task = node_D(node_A_task.output)"
   ]
  },
  {
   "cell_type": "markdown",
   "id": "56ae9601",
   "metadata": {},
   "source": [
    "### kubeflow pipeline 결과 화면"
   ]
  },
  {
   "cell_type": "markdown",
   "id": "aa44bdf9",
   "metadata": {},
   "source": [
    "<img src='node_example_image/node4_2.png' width='850px'></img>"
   ]
  },
  {
   "cell_type": "markdown",
   "id": "f04bba64",
   "metadata": {},
   "source": [
    "#### 파이프라인 구성에 따라 kubeflow pipeline에서 워크플로우가 작성되기 때문에 입력과 출력의 개수, 형태를 정확히 인지해야 합니다. 지금부터는 최소한의 입력과 출력 인수로 파이프라인을 작성하는 것을 목표로 합니다."
   ]
  },
  {
   "cell_type": "markdown",
   "id": "893a9279",
   "metadata": {},
   "source": [
    "## A -> D, B -> D, C -> D\n",
    "\n",
    "기존 노드B,C만 입력이 없는 노드로 수정합니다."
   ]
  },
  {
   "cell_type": "code",
   "execution_count": 6,
   "id": "1d001357",
   "metadata": {},
   "outputs": [],
   "source": [
    "@func_to_container_op\n",
    "def node_B() -> str:\n",
    "    task_B = f' B'\n",
    "    print(task_B)\n",
    "    return task_B\n",
    "\n",
    "@func_to_container_op\n",
    "def node_C() -> str:\n",
    "    task_C = 'C'\n",
    "    print(task_C)\n",
    "    return task_C"
   ]
  },
  {
   "cell_type": "markdown",
   "id": "fe27cdca",
   "metadata": {},
   "source": [
    "이때, 노드D의 입력은 3개로 다시 작성해야 합니다. <br>만약 수정 없이 아래와 같이 파이프라인을 작성한다면 예제 그래프가 아닌 각각의 워크플로우를 확인할 수 있습니다."
   ]
  },
  {
   "cell_type": "code",
   "execution_count": 7,
   "id": "21751616",
   "metadata": {},
   "outputs": [],
   "source": [
    "def connect_example_pipeline():\n",
    "    node_A_task = node_A()\n",
    "    node_B_task = node_B()\n",
    "    node_C_task = node_C()\n",
    "    node_D_task = node_D(node_A_task.output)\n",
    "    node_D_task = node_D(node_B_task.output)\n",
    "    node_D_task = node_D(node_C_task.output)"
   ]
  },
  {
   "cell_type": "markdown",
   "id": "9206a00d",
   "metadata": {},
   "source": [
    "<img src='node_example_image/node4_3.png' width='850px'></img>"
   ]
  },
  {
   "cell_type": "markdown",
   "id": "bcf50cf2",
   "metadata": {},
   "source": [
    "때문에, 노드D도 3개의 입력을 받도록 수정한 후 세 노드의 출력을 한번에 받도록 파이프라인을 작성합니다."
   ]
  },
  {
   "cell_type": "code",
   "execution_count": 8,
   "id": "0dcb5d5c",
   "metadata": {},
   "outputs": [],
   "source": [
    "@func_to_container_op\n",
    "def node_D(D1: str, D2: str, D3: str) -> str:\n",
    "    task_D = f'{(D1, D2, D3)} -> D'\n",
    "    print(task_D)\n",
    "    return task_D\n",
    "\n",
    "def connect_example_pipeline():\n",
    "    node_A_task = node_A()\n",
    "    node_B_task = node_B()\n",
    "    node_C_task = node_C()\n",
    "    node_D_task = node_D(node_A_task.output, node_B_task.output, node_C_task.output)"
   ]
  },
  {
   "cell_type": "markdown",
   "id": "75ca0c37",
   "metadata": {},
   "source": [
    "### kubeflow pipeline 결과 화면"
   ]
  },
  {
   "cell_type": "markdown",
   "id": "cd2f051d",
   "metadata": {},
   "source": [
    "<img src='node_example_image/node4_4.png' width='850px'></img>"
   ]
  },
  {
   "cell_type": "markdown",
   "id": "6dda1a52",
   "metadata": {},
   "source": [
    "## A -> (B, C) -> D, A -> D\n",
    "\n",
    "위의 예제를 통해 해당 예제는 간단한 노드 수정과 파이프라인 연결을 다르게 하여 작성이 가능한 것을 확인할 수 있습니다.\n",
    "먼저 노드B,C가 노드A의 출력을 입력받을 수 있도록 수정합니다."
   ]
  },
  {
   "cell_type": "code",
   "execution_count": 10,
   "id": "4d27c558",
   "metadata": {},
   "outputs": [],
   "source": [
    "@func_to_container_op\n",
    "def node_B(B: str) -> str:\n",
    "    task_B = f'{B} -> B'\n",
    "    print(task_B)\n",
    "    return task_B\n",
    "\n",
    "@func_to_container_op\n",
    "def node_C(C: str) -> str:\n",
    "    task_C = f'{C} -> C'\n",
    "    print(task_C)\n",
    "    return task_C"
   ]
  },
  {
   "cell_type": "markdown",
   "id": "739502d2",
   "metadata": {},
   "source": [
    "파이프라인도 노드B,C 연결만을 추가하여 작성합니다."
   ]
  },
  {
   "cell_type": "code",
   "execution_count": 11,
   "id": "32bf2ceb",
   "metadata": {},
   "outputs": [],
   "source": [
    "def connect_example_pipeline():\n",
    "    node_A_task = node_A()\n",
    "    node_B_task = node_B(node_A_task.output)\n",
    "    node_C_task = node_C(node_A_task.output)\n",
    "    node_D_task = node_D(node_A_task.output, node_B_task.output, node_C_task.output)"
   ]
  },
  {
   "cell_type": "markdown",
   "id": "8187e6d5",
   "metadata": {},
   "source": [
    "### kubeflow pipeline 결과 화면"
   ]
  },
  {
   "cell_type": "markdown",
   "id": "2e974541",
   "metadata": {},
   "source": [
    "<img src='node_example_image/node4_5.png' width='850px'></img>"
   ]
  }
 ],
 "metadata": {
  "kernelspec": {
   "display_name": "Python 3 (ipykernel)",
   "language": "python",
   "name": "python3"
  },
  "language_info": {
   "codemirror_mode": {
    "name": "ipython",
    "version": 3
   },
   "file_extension": ".py",
   "mimetype": "text/x-python",
   "name": "python",
   "nbconvert_exporter": "python",
   "pygments_lexer": "ipython3",
   "version": "3.9.13"
  }
 },
 "nbformat": 4,
 "nbformat_minor": 5
}
