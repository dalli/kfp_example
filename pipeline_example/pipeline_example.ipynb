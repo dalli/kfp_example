{
 "cells": [
  {
   "cell_type": "markdown",
   "id": "7ca37837",
   "metadata": {},
   "source": [
    "# 파이프라인 생성\n",
    "\n",
    "파이프라인은 yaml 및 tar.gz 파일로 생성되며 kubeflow에 업로드 하면 플로우 차트를 제공합니다.\n",
    "이러한 파이프라인은 컴포넌트를 통해 구성됩니다. 컴포넌트는 각각 독자적으로 존재하는 컨테이너로 입력 및 출력 값을 통해 흐름을 구성합니다.\n",
    "각각의 컴포넌트는 사용자의 지시에 따라 구성되며 재사용이 용이합니다.\n",
    "\n",
    "본 예제에서는 간단한 파이프라인 및 컴포넌트 구성을 확인합니다."
   ]
  },
  {
   "cell_type": "code",
   "execution_count": null,
   "id": "8b526ebe",
   "metadata": {},
   "outputs": [],
   "source": [
    "from typing import NamedTuple\n",
    "\n",
    "import kfp\n",
    "from kfp import components, dsl\n",
    "from kfp.components import func_to_container_op"
   ]
  },
  {
   "cell_type": "markdown",
   "id": "1bf1f98a",
   "metadata": {},
   "source": [
    "## 컴포넌트 구성\n",
    "\n",
    "kubeflow pipeline을 작성함에 있어 먼저 컴포넌트를 생성해야 합니다. <br>\n",
    "컴포넌트는 함수를 통해 구성이 가능하며 kfp 패키지에서 제공하는 두가지 방법을 예제를 통해 확인합니다."
   ]
  },
  {
   "cell_type": "markdown",
   "id": "322250f4",
   "metadata": {},
   "source": [
    "### func_to_container_op"
   ]
  },
  {
   "cell_type": "code",
   "execution_count": 4,
   "id": "3c56ac85",
   "metadata": {},
   "outputs": [],
   "source": [
    "@func_to_container_op\n",
    "def print_small_text(text: str):\n",
    "    '''Print small text'''\n",
    "    print(text)\n",
    "    \n",
    "@func_to_container_op\n",
    "def small_text():\n",
    "    return 'test_component'"
   ]
  },
  {
   "cell_type": "raw",
   "id": "44ff5edc",
   "metadata": {},
   "source": [
    "kfp에서 제공하는 패키지를 사용하여 Decorator를 활용하면 간단하게 직접 작성한 함수를 컴포넌트로 구성할 수 있습니다."
   ]
  },
  {
   "cell_type": "markdown",
   "id": "8fe53251",
   "metadata": {},
   "source": [
    "### create_component_from_func"
   ]
  },
  {
   "cell_type": "code",
   "execution_count": 5,
   "id": "18f7a677",
   "metadata": {},
   "outputs": [],
   "source": [
    "def print_package_version():\n",
    "    ''' import package'''\n",
    "    import tensorflow as tf\n",
    "    import numpy as np\n",
    "    \n",
    "    text = f'tensorflow version : {tf.__version__}'\n",
    "    print(tf.__version__)\n",
    "    \n",
    "    return text\n",
    "    \n",
    "print_package_version_op = components.create_component_from_func(\n",
    "    print_package_version, base_image='tensorflow/tensorflow',\n",
    "    packages_to_install=['numpy==1.23.2']\n",
    ")"
   ]
  },
  {
   "cell_type": "markdown",
   "id": "66c98f2d",
   "metadata": {},
   "source": [
    "컴포넌트 생성 시 추가적인 패키지 및 이미지가 필요하다면 위와 같이 설정하여 생성할 수 있습니다."
   ]
  },
  {
   "cell_type": "markdown",
   "id": "33e827e6",
   "metadata": {},
   "source": [
    "## 파이프라인 구성\n",
    "\n",
    "파이프라인은 생성한 컴포넌트의 입력과 출력을 연결하여 생성합니다. 반환 값이 있는 컴포넌트들의 데이터 형태를 정확히 입력해 주어야 합니다."
   ]
  },
  {
   "cell_type": "code",
   "execution_count": null,
   "id": "4d4da342",
   "metadata": {},
   "outputs": [],
   "source": [
    "@dsl.pipeline(name='pipeline name')\n",
    "def pipeline():\n",
    "    '''Pipeline that passes small constant string to to consumer'''\n",
    "    small_text_task = small_text()\n",
    "    print_package_version_task = print_package_version_op()\n",
    "    \n",
    "    print_small_text1_task = print_small_text(small_text_task.outputs)\n",
    "    print_small_text2_task = print_small_text(print_package_version_task.outputs)"
   ]
  },
  {
   "cell_type": "markdown",
   "id": "9eb2d3a0",
   "metadata": {},
   "source": [
    "위와 같이 입력 및 출력을 직접 연결하여 파이프라인을 구성합니다. <br>\n",
    "컴포넌트의 출력 값은 outputs으로 표현되며 여러 인자가 있다면 직접 작성해야 합니다. 자세한 데이터 전달 방법은 data_passing에서 다룹니다."
   ]
  },
  {
   "cell_type": "code",
   "execution_count": null,
   "id": "4dfeef94",
   "metadata": {},
   "outputs": [],
   "source": [
    "kfp.compiler.Compiler().compile(pipeline, 'pipeline_example.tar.gz')"
   ]
  },
  {
   "cell_type": "markdown",
   "id": "f43b476d",
   "metadata": {},
   "source": [
    "구성한 파이프라인은 yaml 및 tar.gz 파일로 변환하여 사용한다.\n",
    "생성된 파일은 kubeflow UI에서 업로드하여 사용이 가능하다."
   ]
  }
 ],
 "metadata": {
  "kernelspec": {
   "display_name": "Python 3 (ipykernel)",
   "language": "python",
   "name": "python3"
  },
  "language_info": {
   "codemirror_mode": {
    "name": "ipython",
    "version": 3
   },
   "file_extension": ".py",
   "mimetype": "text/x-python",
   "name": "python",
   "nbconvert_exporter": "python",
   "pygments_lexer": "ipython3",
   "version": "3.9.13"
  }
 },
 "nbformat": 4,
 "nbformat_minor": 5
}
