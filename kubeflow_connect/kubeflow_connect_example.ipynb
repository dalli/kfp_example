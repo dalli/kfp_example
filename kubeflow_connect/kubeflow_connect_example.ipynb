{
 "cells": [
  {
   "cell_type": "markdown",
   "id": "dcf5a665",
   "metadata": {},
   "source": [
    "# kubeflow 연결하여 사용하기\n",
    "\n",
    "파이프라인 파일을 생성하여 업로드하지 않고 바로 연결하여 작성한 파이프라인을 run을 할 수 있습니다.<br>\n",
    "requests 패키지를 활용하여 기존에 생성된 파이프라인 예제를 yaml 및 tar.gz 파일로 변환하지 않고 바로 실행을 확인합니다.\n",
    "또한, 파이프라인 생성시 arguments를 입력 받을 수 있는 것을 확인합니다."
   ]
  },
  {
   "cell_type": "markdown",
   "id": "88f0c647",
   "metadata": {},
   "source": [
    "## kubeflow 정보 확인\n",
    "\n",
    "필요한 정보는 kubeflow UI에서 사용하는 아이디, 비밀번호와 네임스페이스, 접속 정보(host, port)가 필요합니다."
   ]
  },
  {
   "cell_type": "code",
   "execution_count": 1,
   "id": "43aef6c9",
   "metadata": {},
   "outputs": [],
   "source": [
    "USERNAME = 'xxx@xxx.xxx'\n",
    "PASSWORD = 'xxxxxx'\n",
    "NAMESPACE = 'xxxxxx'\n",
    "HOST = 'http://xxx.xxx.xxx.xxx:xxxx'"
   ]
  },
  {
   "cell_type": "markdown",
   "id": "c080aad6",
   "metadata": {},
   "source": [
    "## kubeflow 접속"
   ]
  },
  {
   "cell_type": "code",
   "execution_count": null,
   "id": "456e36d7",
   "metadata": {},
   "outputs": [],
   "source": [
    "session = requests.Session()\n",
    "response = session.get(HOST)\n",
    "\n",
    "login_data = {\"login\": USERNAME, \"password\": PASSWORD}\n",
    "session.post(response.url, data=login_data)\n",
    "session_cookie = session.cookies.get_dict()[\"authservice_session\"]\n",
    "\n",
    "client = kfp.Client(\n",
    "    host=f\"{HOST}/pipeline\",\n",
    "    namespace=f\"{NAMESPACE}\",\n",
    "    cookies=f\"authservice_session={session_cookie}\",\n",
    ")"
   ]
  },
  {
   "cell_type": "markdown",
   "id": "3bd60a24",
   "metadata": {},
   "source": [
    "접속을 통해 파이프라인을 생성하여 사용할 수 있는 환경을 설정합니다."
   ]
  },
  {
   "cell_type": "code",
   "execution_count": null,
   "id": "6d559ba7",
   "metadata": {},
   "outputs": [],
   "source": [
    "print(client.get_pipeline(pipeline_id='xxxxxxxxxxxxxx'))\n",
    "print(client.list_pipelines())"
   ]
  },
  {
   "cell_type": "markdown",
   "id": "8a551a8b",
   "metadata": {},
   "source": [
    "연결이 정상적으로 이루어졌는지 확인합니다. pipeline id는 kubeflow UI에서 확인할 수 있습니다."
   ]
  },
  {
   "cell_type": "markdown",
   "id": "c2df5898",
   "metadata": {},
   "source": [
    "## 파이프라인 생성 및 실행"
   ]
  },
  {
   "cell_type": "code",
   "execution_count": null,
   "id": "a88131f4",
   "metadata": {},
   "outputs": [],
   "source": [
    "@func_to_container_op\n",
    "def print_small_text(text: str):\n",
    "    print(text)\n",
    "\n",
    "def connect_example_pipeline(text1: str, text2: str):\n",
    "    print_small_text(text1)\n",
    "    print_small_text(text2)\n",
    "\n",
    "client.create_run_from_pipeline_func(connect_example_pipeline, arguments={'text1' : 'hello world', 'text2' : 'test2'})"
   ]
  },
  {
   "cell_type": "markdown",
   "id": "17b95c4e",
   "metadata": {},
   "source": [
    "파이프라인 생성과 실행을 동시에 수행합니다. <br>\n",
    "이때 arguments를 통해서 인자를 입력 받을 수 있습니다."
   ]
  }
 ],
 "metadata": {
  "kernelspec": {
   "display_name": "Python 3 (ipykernel)",
   "language": "python",
   "name": "python3"
  },
  "language_info": {
   "codemirror_mode": {
    "name": "ipython",
    "version": 3
   },
   "file_extension": ".py",
   "mimetype": "text/x-python",
   "name": "python",
   "nbconvert_exporter": "python",
   "pygments_lexer": "ipython3",
   "version": "3.9.13"
  }
 },
 "nbformat": 4,
 "nbformat_minor": 5
}
