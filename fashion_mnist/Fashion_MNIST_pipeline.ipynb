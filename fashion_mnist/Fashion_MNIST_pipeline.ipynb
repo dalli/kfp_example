{
 "cells": [
  {
   "cell_type": "markdown",
   "id": "9b99455b",
   "metadata": {},
   "source": [
    "# Fashion MNIST 학습 및 테스트\n",
    "\n",
    "본 예제에서는 Fashion MNIST를 진행합니다. 데이터 및 모델을 불러오고 학습 및 테스트 컴포넌트를 생성한 후 파이프라인을 구성합니다.\n",
    "데이터는 tensorflow 패키지를 활용하여 가져오며 학습 후 생성된 모델을 활용하는 컴포넌트가 존재합니다.\n",
    "\n",
    "데이터 로드 -> 전처리 -> 모델 학습 -> 테스트 순서로 진행하며 본 예제에서 생성된 모델은 따로 저장하지 않습니다."
   ]
  },
  {
   "cell_type": "code",
   "execution_count": null,
   "id": "0fea0cd1",
   "metadata": {},
   "outputs": [],
   "source": [
    "import kfp\n",
    "\n",
    "from kfp import components, dsl\n",
    "from kfp.components import InputPath, OutputPath\n",
    "from kfp.components import func_to_container_op\n",
    "from typing import NamedTuple"
   ]
  },
  {
   "cell_type": "markdown",
   "id": "5c6df408",
   "metadata": {},
   "source": [
    "## 학습 데이터 불러오기"
   ]
  },
  {
   "cell_type": "code",
   "execution_count": null,
   "id": "24467e66",
   "metadata": {},
   "outputs": [],
   "source": [
    "def train_data_load(\n",
    "        output_dataset_train_data: OutputPath('Dataset')\n",
    "):\n",
    "    import tensorflow as tf\n",
    "    import pandas as pd\n",
    "    import pickle\n",
    "\n",
    "    fashion_mnist = tf.keras.datasets.fashion_mnist\n",
    "    (train_images, train_labels), (_, _) = fashion_mnist.load_data()\n",
    "\n",
    "    df = pd.DataFrame(columns=['image', 'label'])\n",
    "    for i, image in enumerate(train_images):\n",
    "        df.loc[i] = ({'image': image, 'label': train_labels[i]})\n",
    "\n",
    "    with open(output_dataset_train_data, 'wb') as f:\n",
    "        pickle.dump(df, f, pickle.HIGHEST_PROTOCOL)\n",
    "\n",
    "\n",
    "train_data_load_op = components.create_component_from_func(\n",
    "    train_data_load, base_image='tensorflow/tensorflow',\n",
    "    packages_to_install=['pandas==1.4.2']\n",
    ")"
   ]
  },
  {
   "cell_type": "markdown",
   "id": "ed10477f",
   "metadata": {},
   "source": [
    "## 데이터 전처리"
   ]
  },
  {
   "cell_type": "code",
   "execution_count": null,
   "id": "6da37c3f",
   "metadata": {},
   "outputs": [],
   "source": [
    "def preprocess(\n",
    "        pre_data:InputPath('Dataset'),\n",
    "        data: OutputPath('Dataset')\n",
    "):\n",
    "    import numpy as np\n",
    "    import pickle\n",
    "    import pandas as pd\n",
    "\n",
    "    images = []\n",
    "    labels = []\n",
    "    with open(pre_data, 'rb') as file:\n",
    "        tr_data = pickle.load(file)\n",
    "\n",
    "    for i, item in enumerate(tr_data['image']):\n",
    "        images.append(item)\n",
    "        labels.append(tr_data['label'][i])\n",
    "    images = np.array(images)\n",
    "    labels = np.array(labels)\n",
    "\n",
    "    images = images/255.0\n",
    "\n",
    "    df = pd.DataFrame(columns=['image', 'label'])\n",
    "    for i, image in enumerate(images):\n",
    "        df.loc[i] = ({'image': image, 'label': labels[i]})\n",
    "\n",
    "    with open(data, 'wb') as f:\n",
    "        pickle.dump(df, f, pickle.HIGHEST_PROTOCOL)\n",
    "\n",
    "\n",
    "preprocess_op = components.create_component_from_func(\n",
    "    preprocess, base_image='python:3.9',\n",
    "    packages_to_install=['numpy==1.23.2', 'pandas==1.4.2']\n",
    ")"
   ]
  },
  {
   "cell_type": "markdown",
   "id": "937ece22",
   "metadata": {},
   "source": [
    "## 학습하기"
   ]
  },
  {
   "cell_type": "markdown",
   "id": "3a573872",
   "metadata": {},
   "source": [
    "데이터를 학습하기 위한 간단한 모델을 생성한 후 전처리 데이터를 입력받아 학습을 진행합니다."
   ]
  },
  {
   "cell_type": "markdown",
   "id": "a1902a61",
   "metadata": {},
   "source": [
    "### 모델 생성"
   ]
  },
  {
   "cell_type": "code",
   "execution_count": null,
   "id": "2409c568",
   "metadata": {},
   "outputs": [],
   "source": [
    "def model_generation(pretrain_model : OutputPath('TFModel')) :\n",
    "    import tensorflow as tf\n",
    "    keras_model = tf.keras.Sequential([\n",
    "        tf.keras.layers.Flatten(input_shape=(28, 28)),\n",
    "        tf.keras.layers.Dense(128, activation='relu'),\n",
    "        tf.keras.layers.Dense(10)\n",
    "    ])\n",
    "    keras_model.compile(optimizer='adam',\n",
    "                  loss=tf.keras.losses.SparseCategoricalCrossentropy(from_logits=True),\n",
    "                  metrics=['accuracy'])\n",
    "\n",
    "    keras_model.save(pretrain_model)\n",
    "\n",
    "load_model_op = components.create_component_from_func(\n",
    "    model_generation, base_image='tensorflow/tensorflow'\n",
    ")"
   ]
  },
  {
   "cell_type": "markdown",
   "id": "954feb92",
   "metadata": {},
   "source": [
    "생성한 tensorflow 모델을 전달할 때 TFModel을 사용합니다."
   ]
  },
  {
   "cell_type": "markdown",
   "id": "8a65e4cf",
   "metadata": {},
   "source": [
    "### 모델 학습"
   ]
  },
  {
   "cell_type": "code",
   "execution_count": null,
   "id": "08d119a5",
   "metadata": {},
   "outputs": [],
   "source": [
    "def train_op(\n",
    "        train_dataset: InputPath('Dataset'),\n",
    "        pre_model: InputPath('TFModel'),\n",
    "        trained_model : OutputPath('TFModel')\n",
    ") :\n",
    "    import pickle\n",
    "    import tensorflow as tf\n",
    "    from tensorflow import keras\n",
    "    import numpy as np\n",
    "    import pandas as pd\n",
    "\n",
    "    with open(train_dataset, 'rb') as file:\n",
    "        tr_data = pickle.load(file)\n",
    "\n",
    "    images = []\n",
    "    labels = []\n",
    "    for i, item in enumerate(tr_data['image']) :\n",
    "        images.append(item)\n",
    "        labels.append(tr_data['label'][i])\n",
    "    images = np.array(images)\n",
    "    labels = np.array(labels)\n",
    "\n",
    "    model = keras.models.load_model(pre_model)\n",
    "\n",
    "    model.fit(images, labels, epochs=200)\n",
    "\n",
    "    model.save(trained_model)\n",
    "\n",
    "train_result_op = components.create_component_from_func(\n",
    "    train_op,\n",
    "    base_image='tensorflow/tensorflow',\n",
    "    packages_to_install=['pandas==1.4.2']\n",
    ")"
   ]
  },
  {
   "cell_type": "markdown",
   "id": "85cfee9d",
   "metadata": {},
   "source": [
    "## 모델 테스트"
   ]
  },
  {
   "cell_type": "code",
   "execution_count": null,
   "id": "ba0c5608",
   "metadata": {},
   "outputs": [],
   "source": [
    "def model_prediction(\n",
    "    test_dataset: InputPath('Dataset'),\n",
    "    trained_model : InputPath('TFModel')\n",
    ") -> NamedTuple('Outputs', [('predict', str), ('label', str)]):\n",
    "    from tensorflow import keras\n",
    "    import tensorflow as tf\n",
    "    import pickle\n",
    "    import pandas as pd\n",
    "    import numpy as np\n",
    "    import random\n",
    "\n",
    "    class_names = ['T-shirt/top', 'Trouser', 'Pullover', 'Dress', 'Coat',\n",
    "                   'Sandal', 'Shirt', 'Sneaker', 'Bag', 'Ankle boot']\n",
    "\n",
    "    with open(test_dataset, 'rb') as file:\n",
    "        tr_data = pickle.load(file)\n",
    "\n",
    "    images = []\n",
    "    labels = []\n",
    "    for i, item in enumerate(tr_data['image']):\n",
    "        images.append(item)\n",
    "        labels.append(tr_data['label'][i])\n",
    "    images = np.array(images)\n",
    "    labels = np.array(labels)\n",
    "\n",
    "    test_num = random.randrange(1,1000)\n",
    "\n",
    "    model = keras.models.load_model(trained_model)\n",
    "\n",
    "    predic_image = images[test_num]\n",
    "    predic_label = labels[test_num]\n",
    "\n",
    "    test = tf.expand_dims(predic_image, 0)\n",
    "    predictions_single = model.predict(test)\n",
    "    predict_value = tf.math.argmax(tf.nn.softmax(predictions_single[0]))\n",
    "\n",
    "    predict_value = f'predict result : {class_names[predict_value]}'\n",
    "    label_value = f'label result: {class_names[predic_label]}'\n",
    "\n",
    "    return (predict_value, label_value)"
   ]
  },
  {
   "cell_type": "markdown",
   "id": "44d64489",
   "metadata": {},
   "source": [
    "## 결과 확인"
   ]
  },
  {
   "cell_type": "code",
   "execution_count": null,
   "id": "8bdac6e0",
   "metadata": {},
   "outputs": [],
   "source": [
    "@func_to_container_op\n",
    "def print_text(text1: str, text2: str):\n",
    "    print(text1)\n",
    "    print(text2)"
   ]
  },
  {
   "cell_type": "markdown",
   "id": "5e311c63",
   "metadata": {},
   "source": [
    "학습 된 모델이 예측한 값을 확인할 수 있는 간단한 출력 컴포넌트를 작성합니다."
   ]
  },
  {
   "cell_type": "markdown",
   "id": "864844cd",
   "metadata": {},
   "source": [
    "## 파이프라인 생성"
   ]
  },
  {
   "cell_type": "code",
   "execution_count": null,
   "id": "0f9df350",
   "metadata": {},
   "outputs": [],
   "source": [
    "@dsl.pipeline(name='tak test fashion mnist pipeline')\n",
    "def fashion_mnist_pipeline():\n",
    "    train_data_load_task = train_data_load_op()\n",
    "    preprocess_task = preprocess_op(\n",
    "        train_data_load_task.outputs['output_dataset_train_data']\n",
    "    )\n",
    "    model_task = load_model_op()\n",
    "    train_task = train_result_op(\n",
    "        preprocess_task.outputs['data'],\n",
    "        model_task.outputs['pretrain_model']\n",
    "    )\n",
    "    predict_task = model_prediction_op(\n",
    "        preprocess_task.outputs['data'],\n",
    "        train_task.outputs['trained_model']\n",
    "    )\n",
    "    print_task1 = print_text(predict_task.outputs['predict'], predict_task.outputs['label'])"
   ]
  },
  {
   "cell_type": "code",
   "execution_count": null,
   "id": "b09a0874",
   "metadata": {},
   "outputs": [],
   "source": [
    "kfp.compiler.Compiler().compile(fashion_mnist_pipeline, 'fashion_mnist_pipeline.yaml')"
   ]
  },
  {
   "cell_type": "markdown",
   "id": "e228730c",
   "metadata": {},
   "source": [
    "작성한 컴포넌트를 연결하는 파이프라인을 생성하여 실행합니다."
   ]
  }
 ],
 "metadata": {
  "kernelspec": {
   "display_name": "Python 3 (ipykernel)",
   "language": "python",
   "name": "python3"
  },
  "language_info": {
   "codemirror_mode": {
    "name": "ipython",
    "version": 3
   },
   "file_extension": ".py",
   "mimetype": "text/x-python",
   "name": "python",
   "nbconvert_exporter": "python",
   "pygments_lexer": "ipython3",
   "version": "3.9.13"
  }
 },
 "nbformat": 4,
 "nbformat_minor": 5
}
